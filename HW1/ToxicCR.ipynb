{
 "cells": [
  {
   "cell_type": "markdown",
   "metadata": {},
   "source": [
    "# Практическое задание на тему \"Классификация комментариев на ревью\""
   ]
  },
  {
   "cell_type": "code",
   "execution_count": 16,
   "metadata": {},
   "outputs": [],
   "source": [
    "import pandas as pd\n",
    "import re\n",
    "import numpy as np\n",
    "from sklearn.model_selection import train_test_split, KFold, cross_val_score\n",
    "from sklearn.feature_extraction.text import CountVectorizer, TfidfVectorizer\n",
    "from sklearn.ensemble import RandomForestClassifier\n",
    "from sklearn.linear_model import LogisticRegression\n",
    "from sklearn.metrics import confusion_matrix, classification_report\n",
    "import seaborn as sns\n",
    "import matplotlib.pyplot as plt\n",
    "from sklearn.metrics import make_scorer, f1_score, accuracy_score, precision_recall_fscore_support\n",
    "from sklearn.model_selection import GridSearchCV\n",
    "from transformers import RobertaTokenizer\n",
    "import torch\n",
    "from transformers import AutoModelForSequenceClassification, Trainer, TrainingArguments"
   ]
  },
  {
   "cell_type": "code",
   "execution_count": 17,
   "metadata": {},
   "outputs": [],
   "source": [
    "# Путь до исходного DataSet\n",
    "data_path = \"ToxiCR/models/code-review-dataset-full.xlsx\"\n",
    "# Файл куда будет сохранен датасет, после предпроцессинга\n",
    "preprocessed_data_path = \"preprocessed_data.csv\"\n",
    "# Сид для рандома\n",
    "random_state = 27"
   ]
  },
  {
   "cell_type": "markdown",
   "metadata": {},
   "source": [
    "## Подзадача 1: Подготовка набора данных"
   ]
  },
  {
   "cell_type": "code",
   "execution_count": 39,
   "metadata": {},
   "outputs": [
    {
     "data": {
      "text/html": [
       "<div>\n",
       "<style scoped>\n",
       "    .dataframe tbody tr th:only-of-type {\n",
       "        vertical-align: middle;\n",
       "    }\n",
       "\n",
       "    .dataframe tbody tr th {\n",
       "        vertical-align: top;\n",
       "    }\n",
       "\n",
       "    .dataframe thead th {\n",
       "        text-align: right;\n",
       "    }\n",
       "</style>\n",
       "<table border=\"1\" class=\"dataframe\">\n",
       "  <thead>\n",
       "    <tr style=\"text-align: right;\">\n",
       "      <th></th>\n",
       "      <th>message</th>\n",
       "      <th>is_toxic</th>\n",
       "    </tr>\n",
       "  </thead>\n",
       "  <tbody>\n",
       "    <tr>\n",
       "      <th>0</th>\n",
       "      <td>This and below assignments also should be removed</td>\n",
       "      <td>0</td>\n",
       "    </tr>\n",
       "    <tr>\n",
       "      <th>1</th>\n",
       "      <td>this should be flavor_id = self.flavor_id</td>\n",
       "      <td>0</td>\n",
       "    </tr>\n",
       "    <tr>\n",
       "      <th>2</th>\n",
       "      <td>bool session_adopted_ = false;</td>\n",
       "      <td>0</td>\n",
       "    </tr>\n",
       "    <tr>\n",
       "      <th>3</th>\n",
       "      <td>nit: Starting C++11, this could be done direct...</td>\n",
       "      <td>0</td>\n",
       "    </tr>\n",
       "    <tr>\n",
       "      <th>4</th>\n",
       "      <td>I am confused.\\n \\n This is the tar process we...</td>\n",
       "      <td>0</td>\n",
       "    </tr>\n",
       "    <tr>\n",
       "      <th>...</th>\n",
       "      <td>...</td>\n",
       "      <td>...</td>\n",
       "    </tr>\n",
       "    <tr>\n",
       "      <th>19646</th>\n",
       "      <td>Amazing!!! I bet that contributed a lot to our...</td>\n",
       "      <td>0</td>\n",
       "    </tr>\n",
       "    <tr>\n",
       "      <th>19647</th>\n",
       "      <td>great catch</td>\n",
       "      <td>0</td>\n",
       "    </tr>\n",
       "    <tr>\n",
       "      <th>19648</th>\n",
       "      <td>Wow, this is amazing.</td>\n",
       "      <td>0</td>\n",
       "    </tr>\n",
       "    <tr>\n",
       "      <th>19649</th>\n",
       "      <td>This is awesome.</td>\n",
       "      <td>0</td>\n",
       "    </tr>\n",
       "    <tr>\n",
       "      <th>19650</th>\n",
       "      <td>Can't wait for this! Seeing the nuances there ...</td>\n",
       "      <td>0</td>\n",
       "    </tr>\n",
       "  </tbody>\n",
       "</table>\n",
       "<p>19651 rows × 2 columns</p>\n",
       "</div>"
      ],
      "text/plain": [
       "                                                 message  is_toxic\n",
       "0      This and below assignments also should be removed         0\n",
       "1              this should be flavor_id = self.flavor_id         0\n",
       "2                         bool session_adopted_ = false;         0\n",
       "3      nit: Starting C++11, this could be done direct...         0\n",
       "4      I am confused.\\n \\n This is the tar process we...         0\n",
       "...                                                  ...       ...\n",
       "19646  Amazing!!! I bet that contributed a lot to our...         0\n",
       "19647                                        great catch         0\n",
       "19648                             Wow, this is amazing.          0\n",
       "19649                                   This is awesome.         0\n",
       "19650  Can't wait for this! Seeing the nuances there ...         0\n",
       "\n",
       "[19651 rows x 2 columns]"
      ]
     },
     "execution_count": 39,
     "metadata": {},
     "output_type": "execute_result"
    }
   ],
   "source": [
    "df = pd.read_excel(data_path)\n",
    "df"
   ]
  },
  {
   "cell_type": "markdown",
   "metadata": {},
   "source": [
    "### 1. Проведите очистку набора данных, устраняя пропущенные значения и дубликаты."
   ]
  },
  {
   "cell_type": "code",
   "execution_count": 40,
   "metadata": {},
   "outputs": [
    {
     "data": {
      "text/html": [
       "<div>\n",
       "<style scoped>\n",
       "    .dataframe tbody tr th:only-of-type {\n",
       "        vertical-align: middle;\n",
       "    }\n",
       "\n",
       "    .dataframe tbody tr th {\n",
       "        vertical-align: top;\n",
       "    }\n",
       "\n",
       "    .dataframe thead th {\n",
       "        text-align: right;\n",
       "    }\n",
       "</style>\n",
       "<table border=\"1\" class=\"dataframe\">\n",
       "  <thead>\n",
       "    <tr style=\"text-align: right;\">\n",
       "      <th></th>\n",
       "      <th>message</th>\n",
       "      <th>is_toxic</th>\n",
       "    </tr>\n",
       "  </thead>\n",
       "  <tbody>\n",
       "    <tr>\n",
       "      <th>0</th>\n",
       "      <td>This and below assignments also should be removed</td>\n",
       "      <td>0</td>\n",
       "    </tr>\n",
       "    <tr>\n",
       "      <th>1</th>\n",
       "      <td>this should be flavor_id = self.flavor_id</td>\n",
       "      <td>0</td>\n",
       "    </tr>\n",
       "    <tr>\n",
       "      <th>2</th>\n",
       "      <td>bool session_adopted_ = false;</td>\n",
       "      <td>0</td>\n",
       "    </tr>\n",
       "    <tr>\n",
       "      <th>3</th>\n",
       "      <td>nit: Starting C++11, this could be done direct...</td>\n",
       "      <td>0</td>\n",
       "    </tr>\n",
       "    <tr>\n",
       "      <th>4</th>\n",
       "      <td>I am confused.\\n \\n This is the tar process we...</td>\n",
       "      <td>0</td>\n",
       "    </tr>\n",
       "    <tr>\n",
       "      <th>...</th>\n",
       "      <td>...</td>\n",
       "      <td>...</td>\n",
       "    </tr>\n",
       "    <tr>\n",
       "      <th>19646</th>\n",
       "      <td>Amazing!!! I bet that contributed a lot to our...</td>\n",
       "      <td>0</td>\n",
       "    </tr>\n",
       "    <tr>\n",
       "      <th>19647</th>\n",
       "      <td>great catch</td>\n",
       "      <td>0</td>\n",
       "    </tr>\n",
       "    <tr>\n",
       "      <th>19648</th>\n",
       "      <td>Wow, this is amazing.</td>\n",
       "      <td>0</td>\n",
       "    </tr>\n",
       "    <tr>\n",
       "      <th>19649</th>\n",
       "      <td>This is awesome.</td>\n",
       "      <td>0</td>\n",
       "    </tr>\n",
       "    <tr>\n",
       "      <th>19650</th>\n",
       "      <td>Can't wait for this! Seeing the nuances there ...</td>\n",
       "      <td>0</td>\n",
       "    </tr>\n",
       "  </tbody>\n",
       "</table>\n",
       "<p>12904 rows × 2 columns</p>\n",
       "</div>"
      ],
      "text/plain": [
       "                                                 message  is_toxic\n",
       "0      This and below assignments also should be removed         0\n",
       "1              this should be flavor_id = self.flavor_id         0\n",
       "2                         bool session_adopted_ = false;         0\n",
       "3      nit: Starting C++11, this could be done direct...         0\n",
       "4      I am confused.\\n \\n This is the tar process we...         0\n",
       "...                                                  ...       ...\n",
       "19646  Amazing!!! I bet that contributed a lot to our...         0\n",
       "19647                                        great catch         0\n",
       "19648                             Wow, this is amazing.          0\n",
       "19649                                   This is awesome.         0\n",
       "19650  Can't wait for this! Seeing the nuances there ...         0\n",
       "\n",
       "[12904 rows x 2 columns]"
      ]
     },
     "execution_count": 40,
     "metadata": {},
     "output_type": "execute_result"
    }
   ],
   "source": [
    "df = df.dropna()\n",
    "df = df.drop_duplicates()\n",
    "df"
   ]
  },
  {
   "cell_type": "markdown",
   "metadata": {},
   "source": [
    "Удалив строки с пробелами и дубликатами, мы уменьшили датасет примерно на 7 000 строк"
   ]
  },
  {
   "cell_type": "markdown",
   "metadata": {},
   "source": [
    "### 2. Подготовьте текстовые данные для анализа"
   ]
  },
  {
   "cell_type": "code",
   "execution_count": 41,
   "metadata": {},
   "outputs": [],
   "source": [
    "contraction_mapping = {\n",
    "    \"ain't\": \"is not\", \"aren't\": \"are not\",\n",
    "                       \"can't\": \"cannot\", \"'cause\": \"because\",\n",
    "                       \"could've\": \"could have\", \"couldn't\": \"could not\",\n",
    "                       \"didn't\": \"did not\", \"doesn't\": \"does not\",\n",
    "                       \"don't\": \"do not\", \"hadn't\": \"had not\", \"hasn't\": \"has not\",\n",
    "                       \"haven't\": \"have not\", \"he'd\": \"he would\", \"he'll\": \"he will\",\n",
    "                       \"he's\": \"he is\", \"how'd\": \"how did\", \"how'd'y\": \"how do you\",\n",
    "                       \"how'll\": \"how will\", \"how's\": \"how is\", \"I'd\": \"I would\",\n",
    "                       \"I'd've\": \"I would have\", \"I'll\": \"I will\", \"I'll've\": \"I will have\",\n",
    "                       \"I'm\": \"I am\", \"I've\": \"I have\", \"i'd\": \"i would\", \"i'd've\": \"i would have\",\n",
    "                       \"i'll\": \"i will\", \"i'll've\": \"i will have\", \"i'm\": \"i am\",\n",
    "                       \"i've\": \"i have\", \"isn't\": \"is not\", \"it'd\": \"it would\",\n",
    "                       \"it'd've\": \"it would have\", \"it'll\": \"it will\", \"it'll've\": \"it will have\",\n",
    "                       \"it's\": \"it is\", \"let's\": \"let us\", \"ma'am\": \"madam\", \"mayn't\": \"may not\",\n",
    "                       \"might've\": \"might have\", \"mightn't\": \"might not\",\n",
    "                       \"mightn't've\": \"might not have\", \"must've\": \"must have\",\n",
    "                       \"mustn't\": \"must not\", \"mustn't've\": \"must not have\",\n",
    "                       \"needn't\": \"need not\", \"needn't've\": \"need not have\",\n",
    "                       \"o'clock\": \"of the clock\", \"oughtn't\": \"ought not\",\n",
    "                       \"oughtn't've\": \"ought not have\", \"shan't\": \"shall not\",\n",
    "                       \"sha'n't\": \"shall not\", \"shan't've\": \"shall not have\",\n",
    "                       \"she'd\": \"she would\", \"she'd've\": \"she would have\",\n",
    "                       \"she'll\": \"she will\", \"she'll've\": \"she will have\",\n",
    "                       \"she's\": \"she is\", \"should've\": \"should have\", \"shouldn't\": \"should not\",\n",
    "                       \"shouldn't've\": \"should not have\", \"so've\": \"so have\", \"so's\": \"so as\",\n",
    "                       \"this's\": \"this is\", \"that'd\": \"that would\", \"that'd've\": \"that would have\",\n",
    "                       \"that's\": \"that is\", \"there'd\": \"there would\",\n",
    "                       \"there'd've\": \"there would have\", \"there's\": \"there is\",\n",
    "                       \"here's\": \"here is\", \"they'd\": \"they would\", \"they'd've\": \"they would have\",\n",
    "                       \"they'll\": \"they will\", \"they'll've\": \"they will have\", \"they're\": \"they are\",\n",
    "                       \"they've\": \"they have\", \"to've\": \"to have\", \"wasn't\": \"was not\", \"we'd\": \"we would\",\n",
    "                       \"we'd've\": \"we would have\", \"we'll\": \"we will\", \"we'll've\": \"we will have\",\n",
    "                       \"we're\": \"we are\", \"we've\": \"we have\", \"weren't\": \"were not\",\n",
    "                       \"what'll\": \"what will\",\n",
    "                       \"what'll've\": \"what will have\", \"what're\": \"what are\", \"what's\": \"what is\",\n",
    "                       \"what've\": \"what have\", \"when's\": \"when is\", \"when've\": \"when have\",\n",
    "                       \"where'd\": \"where did\", \"where's\": \"where is\", \"where've\": \"where have\",\n",
    "                       \"who'll\": \"who will\", \"who'll've\": \"who will have\", \"who's\": \"who is\",\n",
    "                       \"who've\": \"who have\", \"why's\": \"why is\", \"why've\": \"why have\",\n",
    "                       \"will've\": \"will have\", \"won't\": \"will not\", \"won't've\": \"will not have\",\n",
    "                       \"would've\": \"would have\", \"wouldn't\": \"would not\", \"wouldn't've\": \"would not have\",\n",
    "                       \"y'all\": \"you all\", \"y'all'd\": \"you all would\", \"y'all'd've\": \"you all would have\",\n",
    "                       \"y'all're\": \"you all are\", \"y'all've\": \"you all have\", \"you'd\": \"you would\",\n",
    "                       \"you'd've\": \"you would have\", \"you'll\": \"you will\", \"you'll've\": \"you will have\",\n",
    "                       \"you're\": \"you are\", \"you've\": \"you have\", \"aint\": \"is not\", \"arent\": \"are not\",\n",
    "                       \"cant\": \"cannot\", \"cause\": \"because\",\n",
    "                       \"couldve\": \"could have\", \"couldnt\": \"could not\",\n",
    "                       \"didnt\": \"did not\", \"doesnt\": \"does not\",\n",
    "                       \"dont\": \"do not\", \"hadnt\": \"had not\", \"hasnt\": \"has not\",\n",
    "                       \"havent\": \"have not\", \"howdy\": \"how do you\",\n",
    "                       \"its\": \"it is\", \"lets\": \"let us\", \"maam\": \"madam\", \"maynt\": \"may not\",\n",
    "                       \"mightve\": \"might have\", \"mightnt\": \"might not\",\n",
    "                       \"mightntve\": \"might not have\", \"mustve\": \"must have\",\n",
    "                       \"mustnt\": \"must not\", \"mustntve\": \"must not have\",\n",
    "                       \"neednt\": \"need not\", \"needntve\": \"need not have\",\n",
    "                       \"oclock\": \"of the clock\", \"oughtnt\": \"ought not\",\n",
    "                       \"shouldve\": \"should have\", \"shouldnt\": \"should not\",\n",
    "                       \"werent\": \"were not\", \"yall\": \"you all\", \"youre\": \"you are\",\n",
    "                       \"youve\": \"you have\"\n",
    "                    }\n",
    "programming_keywords = [\n",
    "    \"while\", \"case\", \"switch\", \"def\", \"abstract\", \"byte\", \"continue\", \"native\",\n",
    "    \"private\", \"synchronized\", \"if\", \"do\", \"include\", \"each\", \"than\", \"finally\",\n",
    "    \"class\", \"double\", \"float\", \"int\", \"else\", \"instanceof\", \"long\", \"super\",\n",
    "    \"import\", \"short\", \"default\", \"catch\", \"try\", \"new\", \"final\", \"extends\",\n",
    "    \"implements\", \"public\", \"protected\", \"static\", \"this\", \"return\", \"char\",\n",
    "    \"const\", \"break\", \"boolean\", \"bool\", \"package\", \"assert\", \"raise\", \"global\",\n",
    "    \"with\", \"or\", \"yield\", \"in\", \"out\", \"except\", \"and\", \"enum\", \"signed\",\n",
    "    \"void\", \"virtual\", \"union\", \"goto\", \"var\", \"function\", \"require\", \"print\",\n",
    "    \"echo\", \"foreach\", \"elseif\", \"namespace\", \"delegate\", \"event\", \"override\",\n",
    "    \"struct\", \"readonly\", \"explicit\", \"interface\", \"get\", \"set\", \"elif\", \"for\",\n",
    "    \"throw\", \"throws\", \"lambda\", \"endfor\", \"endforeach\", \"endif\", \"endwhile\",\n",
    "    \"clone\", \"ifdef\", \"mk\"\n",
    "]"
   ]
  },
  {
   "cell_type": "code",
   "execution_count": 42,
   "metadata": {},
   "outputs": [],
   "source": [
    "# Функция для предобработки комментария\n",
    "def preprocess_message(message):\n",
    "     # Приведение к нижнему регистру\n",
    "    message = message.lower().strip()\n",
    "\n",
    "    message = re.sub(r'\\b(' + '|'.join(programming_keywords) + r')\\b', '', message)\n",
    "\n",
    "    # Удаление URL-ссылок\n",
    "    message = re.sub(r'http\\S+|www\\S+|https\\S+', '', message, flags=re.MULTILINE)\n",
    "    \n",
    "    # Исправление сокращений\n",
    "    for contraction, full_form in contraction_mapping.items():\n",
    "        message = message.replace(contraction, full_form)\n",
    "    \n",
    "    # Удаление повторяющихся символов\n",
    "    message = re.sub(r'(.)\\1{2,}', r'\\1', message)\n",
    "    \n",
    "    # Удаление специальных символов\n",
    "    message = re.sub(r'[&^*#@!%$?]', '', message)\n",
    "    \n",
    "    return message"
   ]
  },
  {
   "cell_type": "markdown",
   "metadata": {},
   "source": [
    "Применим предобработку данных. После чего повторно удалим дубликаты и пустые строки, так как они могли появится в процессе предобработки"
   ]
  },
  {
   "cell_type": "code",
   "execution_count": 43,
   "metadata": {},
   "outputs": [
    {
     "data": {
      "text/html": [
       "<div>\n",
       "<style scoped>\n",
       "    .dataframe tbody tr th:only-of-type {\n",
       "        vertical-align: middle;\n",
       "    }\n",
       "\n",
       "    .dataframe tbody tr th {\n",
       "        vertical-align: top;\n",
       "    }\n",
       "\n",
       "    .dataframe thead th {\n",
       "        text-align: right;\n",
       "    }\n",
       "</style>\n",
       "<table border=\"1\" class=\"dataframe\">\n",
       "  <thead>\n",
       "    <tr style=\"text-align: right;\">\n",
       "      <th></th>\n",
       "      <th>message</th>\n",
       "      <th>is_toxic</th>\n",
       "    </tr>\n",
       "  </thead>\n",
       "  <tbody>\n",
       "    <tr>\n",
       "      <th>0</th>\n",
       "      <td>below assignments also should be removed</td>\n",
       "      <td>0</td>\n",
       "    </tr>\n",
       "    <tr>\n",
       "      <th>1</th>\n",
       "      <td>should be flavor_id = self.flavor_id</td>\n",
       "      <td>0</td>\n",
       "    </tr>\n",
       "    <tr>\n",
       "      <th>2</th>\n",
       "      <td>session_adopted_ = false;</td>\n",
       "      <td>0</td>\n",
       "    </tr>\n",
       "    <tr>\n",
       "      <th>3</th>\n",
       "      <td>nit: starting c++11,  could be done directly  ...</td>\n",
       "      <td>0</td>\n",
       "    </tr>\n",
       "    <tr>\n",
       "      <th>4</th>\n",
       "      <td>i am confused.\\n \\n  is the tar process we are...</td>\n",
       "      <td>0</td>\n",
       "    </tr>\n",
       "    <tr>\n",
       "      <th>...</th>\n",
       "      <td>...</td>\n",
       "      <td>...</td>\n",
       "    </tr>\n",
       "    <tr>\n",
       "      <th>19646</th>\n",
       "      <td>amazing i bet that contributed a lot to our sl...</td>\n",
       "      <td>0</td>\n",
       "    </tr>\n",
       "    <tr>\n",
       "      <th>19647</th>\n",
       "      <td>great</td>\n",
       "      <td>0</td>\n",
       "    </tr>\n",
       "    <tr>\n",
       "      <th>19648</th>\n",
       "      <td>wow,  is amazing.</td>\n",
       "      <td>0</td>\n",
       "    </tr>\n",
       "    <tr>\n",
       "      <th>19649</th>\n",
       "      <td>is awesome.</td>\n",
       "      <td>0</td>\n",
       "    </tr>\n",
       "    <tr>\n",
       "      <th>19650</th>\n",
       "      <td>cannot wait   seeing the nuances there affect ...</td>\n",
       "      <td>0</td>\n",
       "    </tr>\n",
       "  </tbody>\n",
       "</table>\n",
       "<p>12902 rows × 2 columns</p>\n",
       "</div>"
      ],
      "text/plain": [
       "                                                 message  is_toxic\n",
       "0               below assignments also should be removed         0\n",
       "1                   should be flavor_id = self.flavor_id         0\n",
       "2                              session_adopted_ = false;         0\n",
       "3      nit: starting c++11,  could be done directly  ...         0\n",
       "4      i am confused.\\n \\n  is the tar process we are...         0\n",
       "...                                                  ...       ...\n",
       "19646  amazing i bet that contributed a lot to our sl...         0\n",
       "19647                                             great          0\n",
       "19648                                  wow,  is amazing.         0\n",
       "19649                                        is awesome.         0\n",
       "19650  cannot wait   seeing the nuances there affect ...         0\n",
       "\n",
       "[12902 rows x 2 columns]"
      ]
     },
     "execution_count": 43,
     "metadata": {},
     "output_type": "execute_result"
    }
   ],
   "source": [
    "df['message'] = df['message'].apply(preprocess_message)\n",
    "df = df.dropna(subset=['message'])\n",
    "# Также удалим строки, где 'message' пустые\n",
    "df = df[df['message'].str.strip() != '']\n",
    "df"
   ]
  },
  {
   "cell_type": "markdown",
   "metadata": {},
   "source": [
    "### 3. После предобработки сохраните подготовленные данные для дальнейшего использования"
   ]
  },
  {
   "cell_type": "code",
   "execution_count": 44,
   "metadata": {},
   "outputs": [],
   "source": [
    "df.to_csv(preprocessed_data_path, index=False, encoding='utf-8')"
   ]
  },
  {
   "cell_type": "markdown",
   "metadata": {},
   "source": [
    "## Подзадача 2: Использование моделей машинного обучения для классификации комментариев"
   ]
  },
  {
   "cell_type": "code",
   "execution_count": 18,
   "metadata": {},
   "outputs": [
    {
     "data": {
      "text/html": [
       "<div>\n",
       "<style scoped>\n",
       "    .dataframe tbody tr th:only-of-type {\n",
       "        vertical-align: middle;\n",
       "    }\n",
       "\n",
       "    .dataframe tbody tr th {\n",
       "        vertical-align: top;\n",
       "    }\n",
       "\n",
       "    .dataframe thead th {\n",
       "        text-align: right;\n",
       "    }\n",
       "</style>\n",
       "<table border=\"1\" class=\"dataframe\">\n",
       "  <thead>\n",
       "    <tr style=\"text-align: right;\">\n",
       "      <th></th>\n",
       "      <th>message</th>\n",
       "      <th>is_toxic</th>\n",
       "    </tr>\n",
       "  </thead>\n",
       "  <tbody>\n",
       "    <tr>\n",
       "      <th>0</th>\n",
       "      <td>below assignments also should be removed</td>\n",
       "      <td>0</td>\n",
       "    </tr>\n",
       "    <tr>\n",
       "      <th>1</th>\n",
       "      <td>should be flavor_id = self.flavor_id</td>\n",
       "      <td>0</td>\n",
       "    </tr>\n",
       "    <tr>\n",
       "      <th>2</th>\n",
       "      <td>session_adopted_ = false;</td>\n",
       "      <td>0</td>\n",
       "    </tr>\n",
       "    <tr>\n",
       "      <th>3</th>\n",
       "      <td>nit: starting c++11,  could be done directly  ...</td>\n",
       "      <td>0</td>\n",
       "    </tr>\n",
       "    <tr>\n",
       "      <th>4</th>\n",
       "      <td>i am confused.\\n \\n  is the tar process we are...</td>\n",
       "      <td>0</td>\n",
       "    </tr>\n",
       "    <tr>\n",
       "      <th>...</th>\n",
       "      <td>...</td>\n",
       "      <td>...</td>\n",
       "    </tr>\n",
       "    <tr>\n",
       "      <th>12897</th>\n",
       "      <td>amazing i bet that contributed a lot to our sl...</td>\n",
       "      <td>0</td>\n",
       "    </tr>\n",
       "    <tr>\n",
       "      <th>12898</th>\n",
       "      <td>great</td>\n",
       "      <td>0</td>\n",
       "    </tr>\n",
       "    <tr>\n",
       "      <th>12899</th>\n",
       "      <td>wow,  is amazing.</td>\n",
       "      <td>0</td>\n",
       "    </tr>\n",
       "    <tr>\n",
       "      <th>12900</th>\n",
       "      <td>is awesome.</td>\n",
       "      <td>0</td>\n",
       "    </tr>\n",
       "    <tr>\n",
       "      <th>12901</th>\n",
       "      <td>cannot wait   seeing the nuances there affect ...</td>\n",
       "      <td>0</td>\n",
       "    </tr>\n",
       "  </tbody>\n",
       "</table>\n",
       "<p>12902 rows × 2 columns</p>\n",
       "</div>"
      ],
      "text/plain": [
       "                                                 message  is_toxic\n",
       "0               below assignments also should be removed         0\n",
       "1                   should be flavor_id = self.flavor_id         0\n",
       "2                              session_adopted_ = false;         0\n",
       "3      nit: starting c++11,  could be done directly  ...         0\n",
       "4      i am confused.\\n \\n  is the tar process we are...         0\n",
       "...                                                  ...       ...\n",
       "12897  amazing i bet that contributed a lot to our sl...         0\n",
       "12898                                             great          0\n",
       "12899                                  wow,  is amazing.         0\n",
       "12900                                        is awesome.         0\n",
       "12901  cannot wait   seeing the nuances there affect ...         0\n",
       "\n",
       "[12902 rows x 2 columns]"
      ]
     },
     "execution_count": 18,
     "metadata": {},
     "output_type": "execute_result"
    }
   ],
   "source": [
    "df = pd.read_csv(preprocessed_data_path, encoding='utf-8')\n",
    "df"
   ]
  },
  {
   "cell_type": "markdown",
   "metadata": {},
   "source": [
    "### Использование классических методов машинного обучения (библиотека scikit-learn)"
   ]
  },
  {
   "cell_type": "markdown",
   "metadata": {},
   "source": [
    "#### 1. Преобразование текстов в векторное представление"
   ]
  },
  {
   "cell_type": "code",
   "execution_count": 19,
   "metadata": {},
   "outputs": [],
   "source": [
    "vectorizer = TfidfVectorizer()\n",
    "X = vectorizer.fit_transform(df['message'])\n",
    "y = df['is_toxic']"
   ]
  },
  {
   "cell_type": "markdown",
   "metadata": {},
   "source": [
    "#### 2. Раздели на train и test"
   ]
  },
  {
   "cell_type": "code",
   "execution_count": 20,
   "metadata": {},
   "outputs": [],
   "source": [
    "X_train, X_test, y_train, y_test = train_test_split(X, y, test_size=0.2, random_state=random_state)"
   ]
  },
  {
   "cell_type": "markdown",
   "metadata": {},
   "source": [
    "#### 3. Обучим модели и выведим f1"
   ]
  },
  {
   "cell_type": "code",
   "execution_count": 21,
   "metadata": {},
   "outputs": [
    {
     "name": "stdout",
     "output_type": "stream",
     "text": [
      "Random Forest Cross F1 Scores: 0.6606914212548015\n",
      "Logistic Regression  F1 Scores: 0.5876010781671159\n"
     ]
    }
   ],
   "source": [
    "rf_model = RandomForestClassifier(random_state=random_state)\n",
    "lr_model = LogisticRegression(max_iter=1000, random_state=random_state)\n",
    "\n",
    "rf_model.fit(X_train, y_train)\n",
    "lr_model.fit(X_train, y_train)\n",
    "\n",
    "rf_predictions = rf_model.predict(X_test)\n",
    "lr_predictions = lr_model.predict(X_test)\n",
    "\n",
    "rf_f1 = f1_score(y_test, rf_predictions)\n",
    "lr_f1 = f1_score(y_test, lr_predictions)\n",
    "\n",
    "print(f'Random Forest Cross F1 Scores: {rf_f1}')\n",
    "print(f'Logistic Regression  F1 Scores: {lr_f1}')"
   ]
  },
  {
   "cell_type": "markdown",
   "metadata": {},
   "source": [
    "Как видно пока метрики, не очень хорошие. Но Random Forest показывает себя чуть лучше.\n",
    "Проведем крос валидацию, что бы более комплексно оценить модели."
   ]
  },
  {
   "cell_type": "markdown",
   "metadata": {},
   "source": [
    "#### 4. Проведем Cross Validation"
   ]
  },
  {
   "cell_type": "code",
   "execution_count": 63,
   "metadata": {},
   "outputs": [
    {
     "name": "stdout",
     "output_type": "stream",
     "text": [
      "Random Forest Cross-Validation F1 Score: [0.90089448 0.88192797 0.86761617 0.8903834  0.89387153 0.87005303\n",
      " 0.8925527  0.88561385 0.88969417 0.88682749]\n",
      "Logistic Regression Cross-Validation F1 Score: [0.87315349 0.85892079 0.83725179 0.86205857 0.84541842 0.834746\n",
      " 0.85486014 0.87186118 0.86643766 0.84880581]\n"
     ]
    }
   ],
   "source": [
    "kf = KFold(n_splits=10, shuffle=True, random_state=random_state)\n",
    "\n",
    "f1_scorer = make_scorer(f1_score, average='weighted')\n",
    "\n",
    "rf_scores = cross_val_score(RandomForestClassifier(random_state=random_state), X_train, y_train, cv=kf, scoring=f1_scorer)\n",
    "lr_scores = cross_val_score(LogisticRegression(max_iter=1000, random_state=random_state), X_train, y_train, cv=kf, scoring=f1_scorer)\n",
    "\n",
    "print(f'Random Forest Cross-Validation F1 Score: {rf_scores}')\n",
    "print(f'Logistic Regression Cross-Validation F1 Score: {lr_scores}')"
   ]
  },
  {
   "cell_type": "markdown",
   "metadata": {},
   "source": [
    "Ну тут метрики получилсь значительно лучше. Random Forest попрежнему показывает себя чуть лучше. Вероятно это связанно с тем, что данных для обучения оказалось мало."
   ]
  },
  {
   "cell_type": "markdown",
   "metadata": {},
   "source": [
    "#### 5. Матрица несоответствия "
   ]
  },
  {
   "cell_type": "code",
   "execution_count": 64,
   "metadata": {},
   "outputs": [],
   "source": [
    "rf_cm = confusion_matrix(y_test, rf_predictions)\n",
    "lr_cm = confusion_matrix(y_test, lr_predictions)"
   ]
  },
  {
   "cell_type": "code",
   "execution_count": 65,
   "metadata": {},
   "outputs": [
    {
     "data": {
      "image/png": "[encoded data removed]",
      "text/plain": [
       "<Figure size 800x600 with 2 Axes>"
      ]
     },
     "metadata": {},
     "output_type": "display_data"
    },
    {
     "data": {
      "image/png": "[encoded data removed]",
      "text/plain": [
       "<Figure size 800x600 with 2 Axes>"
      ]
     },
     "metadata": {},
     "output_type": "display_data"
    }
   ],
   "source": [
    "def plot_confusion_matrix(cm, model_name):\n",
    "    plt.figure(figsize=(8, 6))\n",
    "    sns.heatmap(cm, annot=True, fmt='d', cmap='Blues', xticklabels=['Not Toxic', 'Toxic'], yticklabels=['Not Toxic', 'Toxic'])\n",
    "    plt.title(f'Confusion Matrix for {model_name}')\n",
    "    plt.xlabel('Predicted')\n",
    "    plt.ylabel('True')\n",
    "    plt.show()\n",
    "\n",
    "plot_confusion_matrix(rf_cm, 'Random Forest')\n",
    "plot_confusion_matrix(lr_cm, 'Logistic Regression')"
   ]
  },
  {
   "cell_type": "code",
   "execution_count": 70,
   "metadata": {},
   "outputs": [
    {
     "name": "stdout",
     "output_type": "stream",
     "text": [
      "Random Forest Classification Report:\n",
      "               precision    recall  f1-score   support\n",
      "\n",
      "           0       0.89      0.99      0.94      2078\n",
      "           1       0.93      0.51      0.66       503\n",
      "\n",
      "    accuracy                           0.90      2581\n",
      "   macro avg       0.91      0.75      0.80      2581\n",
      "weighted avg       0.90      0.90      0.89      2581\n",
      "\n",
      "============================================================\n",
      "Logistic Regression Classification Report:\n",
      "               precision    recall  f1-score   support\n",
      "\n",
      "           0       0.88      0.99      0.93      2078\n",
      "           1       0.91      0.43      0.59       503\n",
      "\n",
      "    accuracy                           0.88      2581\n",
      "   macro avg       0.90      0.71      0.76      2581\n",
      "weighted avg       0.88      0.88      0.86      2581\n",
      "\n"
     ]
    }
   ],
   "source": [
    "print(\"Random Forest Classification Report:\\n\", classification_report(y_test, rf_predictions))\n",
    "print(\"=\" * 60)\n",
    "print(\"Logistic Regression Classification Report:\\n\", classification_report(y_test, lr_predictions))"
   ]
  },
  {
   "cell_type": "markdown",
   "metadata": {},
   "source": [
    "Random Forest показывает более высокие значения точности и полноты, значит он лучше в этой задаче.\n",
    "\n",
    "Ложноотрицательные результаты обоих моделей высоки, что может означать, что модели иногда пропускают токсичные сообщения. "
   ]
  },
  {
   "cell_type": "markdown",
   "metadata": {},
   "source": [
    "#### 5. Находим оптимальные гиперпараметры \n",
    "\n",
    "Для этогжо воспользуемся GridSearchCV"
   ]
  },
  {
   "cell_type": "markdown",
   "metadata": {},
   "source": [
    "##### Сначала для Random Forest"
   ]
  },
  {
   "cell_type": "code",
   "execution_count": 72,
   "metadata": {},
   "outputs": [
    {
     "name": "stdout",
     "output_type": "stream",
     "text": [
      "Best parameters for Random Forest: {'max_depth': None, 'n_estimators': 200}\n",
      "Best score for Random Forest: 0.8869231127503532\n"
     ]
    }
   ],
   "source": [
    "rf_param_grid = {\n",
    "    'n_estimators': [50, 100, 200],\n",
    "    'max_depth': [None, 10, 20, 30]\n",
    "}\n",
    "\n",
    "rf_grid = GridSearchCV(RandomForestClassifier(random_state=random_state), rf_param_grid, cv=kf, scoring=f1_scorer)\n",
    "rf_grid.fit(X_train, y_train)\n",
    "\n",
    "print(f'Best parameters for Random Forest: {rf_grid.best_params_}')\n",
    "print(f'Best score for Random Forest: {rf_grid.best_score_}')"
   ]
  },
  {
   "cell_type": "markdown",
   "metadata": {},
   "source": [
    "##### Теперь для Logistic Regression"
   ]
  },
  {
   "cell_type": "code",
   "execution_count": null,
   "metadata": {},
   "outputs": [],
   "source": [
    "lr_param_grid = {\n",
    "    'C': [0.001, 0.01, 0.1, 1, 10],\n",
    "    'solver': ['lbfgs', 'liblinear']\n",
    "}\n",
    "\n",
    "lr_grid = GridSearchCV(LogisticRegression(max_iter=1000, random_state=random_state), lr_param_grid, cv=kf, scoring=f1_scorer)\n",
    "lr_grid.fit(X_train, y_train)\n",
    "\n",
    "print(f'Best parameters for Logistic Regression: {lr_grid.best_params_}')\n",
    "print(f'Best score for Logistic Regression: {lr_grid.best_score_}')"
   ]
  },
  {
   "cell_type": "markdown",
   "metadata": {},
   "source": [
    "#### Итог\n",
    "\n",
    "Теперь зная лучшие гаперпарамметры и модель попробуемя посчитать финальную метрику F1"
   ]
  },
  {
   "cell_type": "code",
   "execution_count": 22,
   "metadata": {},
   "outputs": [
    {
     "name": "stdout",
     "output_type": "stream",
     "text": [
      "              precision    recall  f1-score   support\n",
      "\n",
      "           0       0.89      0.99      0.94      2078\n",
      "           1       0.93      0.51      0.66       503\n",
      "\n",
      "    accuracy                           0.90      2581\n",
      "   macro avg       0.91      0.75      0.80      2581\n",
      "weighted avg       0.90      0.90      0.89      2581\n",
      "\n"
     ]
    }
   ],
   "source": [
    "model = RandomForestClassifier(random_state=random_state, n_estimators=200, max_depth=None)\n",
    "\n",
    "model.fit(X_train, y_train)\n",
    "\n",
    "predictions = rf_model.predict(X_test)\n",
    "\n",
    "print(classification_report(y_test, predictions))"
   ]
  },
  {
   "cell_type": "markdown",
   "metadata": {},
   "source": [
    "Модель хорошо справляется с определением не токсичных сообщений, она имеет проблемы с выявлением токсичных сообщений, что достаточно важно для данного задания."
   ]
  },
  {
   "cell_type": "markdown",
   "metadata": {},
   "source": [
    "### Использование предобученных моделей (библиотека transformers)"
   ]
  },
  {
   "cell_type": "markdown",
   "metadata": {},
   "source": [
    "#### 0. Подготовим dataset"
   ]
  },
  {
   "cell_type": "code",
   "execution_count": 5,
   "metadata": {},
   "outputs": [],
   "source": [
    "df = pd.read_csv(preprocessed_data_path, encoding='utf-8')\n",
    "train_df, eval_df = train_test_split(df, test_size=0.2, random_state=42)"
   ]
  },
  {
   "cell_type": "markdown",
   "metadata": {},
   "source": [
    "#### 1. Токениризация"
   ]
  },
  {
   "cell_type": "code",
   "execution_count": 6,
   "metadata": {},
   "outputs": [],
   "source": [
    "class ToxicDataset(torch.utils.data.Dataset):\n",
    "    def __init__(self, encodings, labels):\n",
    "        self.encodings = encodings\n",
    "        self.labels = labels\n",
    "\n",
    "    def __getitem__(self, idx):\n",
    "        item = {key: torch.tensor(val[idx]) for key, val in self.encodings.items()}\n",
    "        item['labels'] = torch.tensor(self.labels[idx])\n",
    "        return item\n",
    "\n",
    "    def __len__(self):\n",
    "        return len(self.labels)"
   ]
  },
  {
   "cell_type": "code",
   "execution_count": 7,
   "metadata": {},
   "outputs": [],
   "source": [
    "tokenizer = RobertaTokenizer.from_pretrained('microsoft/codebert-base')\n",
    "\n",
    "train_encodings = tokenizer(train_df['message'].tolist(), truncation=True, padding=True)\n",
    "eval_encodings = tokenizer(eval_df['message'].tolist(), truncation=True, padding=True)\n",
    "\n",
    "train_dataset = ToxicDataset(train_encodings, train_df['is_toxic'].tolist())\n",
    "eval_dataset = ToxicDataset(eval_encodings, eval_df['is_toxic'].tolist())"
   ]
  },
  {
   "cell_type": "markdown",
   "metadata": {},
   "source": [
    "#### 2.  Инициализация модели"
   ]
  },
  {
   "cell_type": "code",
   "execution_count": 9,
   "metadata": {},
   "outputs": [],
   "source": [
    "training_args = TrainingArguments(\n",
    "    output_dir='./results',\n",
    "    num_train_epochs=2,\n",
    "    per_device_train_batch_size=16,\n",
    "    per_device_eval_batch_size=16,\n",
    "    gradient_accumulation_steps=4,\n",
    "    learning_rate=2e-5,\n",
    "    evaluation_strategy=\"epoch\",\n",
    "    logging_dir='./logs',\n",
    ")\n",
    "\n",
    "def compute_metrics(p):\n",
    "    preds = p.predictions.argmax(-1)\n",
    "    precision, recall, f1, _ = precision_recall_fscore_support(p.label_ids, preds, average='binary')\n",
    "    acc = accuracy_score(p.label_ids, preds)\n",
    "    return {\n",
    "        'accuracy': acc,\n",
    "        'precision': precision,\n",
    "        'recall': recall,\n",
    "        'f1': f1\n",
    "    }\n"
   ]
  },
  {
   "cell_type": "code",
   "execution_count": 10,
   "metadata": {},
   "outputs": [
    {
     "name": "stderr",
     "output_type": "stream",
     "text": [
      "Some weights of RobertaForSequenceClassification were not initialized from the model checkpoint at microsoft/codebert-base and are newly initialized: ['classifier.dense.bias', 'classifier.dense.weight', 'classifier.out_proj.bias', 'classifier.out_proj.weight']\n",
      "You should probably TRAIN this model on a down-stream task to be able to use it for predictions and inference.\n"
     ]
    }
   ],
   "source": [
    "model = AutoModelForSequenceClassification.from_pretrained('microsoft/codebert-base', num_labels=2)\n",
    "trainer = Trainer(\n",
    "    model=model,\n",
    "    args=training_args,\n",
    "    train_dataset=train_dataset,\n",
    "    eval_dataset=eval_dataset,\n",
    "    compute_metrics=compute_metrics,\n",
    ")"
   ]
  },
  {
   "cell_type": "code",
   "execution_count": 13,
   "metadata": {},
   "outputs": [
    {
     "name": "stderr",
     "output_type": "stream",
     "text": []
    }
   ],
   "source": [
    "trainer.train()"
   ]
  },
  {
   "cell_type": "code",
   "execution_count": 11,
   "metadata": {},
   "outputs": [],
   "source": [
    "eval_results = trainer.evaluate()\n",
    "print(eval_results)"
   ]
  },
  {
   "cell_type": "markdown",
   "metadata": {},
   "source": [
    "## Отчет"
   ]
  },
  {
   "cell_type": "markdown",
   "metadata": {},
   "source": [
    "Как видно предобученная модель показала значительно более хорошие результаты.\n",
    "Модели из классического ML, не очень хорошо работают с текстом6 так же там был применен самы стандартный токенеризатор, который не учитывает количесвто слов. В реальности использовать такие модели как random forest, не очень подходящий вариант, не смотря на достаточно высокие метрики, они плохо определяют именно токсичные комментарии (1), хотя это основная задача классификатора. Трансформеры с этой задачой справляются гораздо лучще, но их очень долго обучать. В целом оценку можно увеличить сделав более сбалансированный dataSet, так как в данном, после очистки осталось всего лишь 2522 токсичных комминтария, что достаточно мала, если учесть что 20% еще идут на тест.\n",
    "\n",
    "Метрики каждой из моделей и пояснения к ним были представленны выше к markdown блоках, поэтому здесь их дублировать будет излишни."
   ]
  },
  {
   "cell_type": "code",
   "execution_count": 15,
   "metadata": {},
   "outputs": [
    {
     "data": {
      "text/plain": [
       "is_toxic\n",
       "0    10380\n",
       "1     2522\n",
       "Name: count, dtype: int64"
      ]
     },
     "execution_count": 15,
     "metadata": {},
     "output_type": "execute_result"
    }
   ],
   "source": [
    "df['is_toxic'].value_counts()"
   ]
  },
  {
   "cell_type": "markdown",
   "metadata": {},
   "source": [
    "## Проблемы\n",
    "\n",
    "Из проблем с которыми сталкнулся, стоит отметить, что обучения трансформера, очень ресурсозатратный процесс, с которым не справился ни Colab - он падал с привышением лимита ОЗУ, ни мой ноутбук - обусался гдето час, потом выключился. Пришлось просить друзей которые работают в области DS, что бы обучили у себя в облаках. "
   ]
  }
 ],
 "metadata": {
  "kernelspec": {
   "display_name": "Python 3",
   "language": "python",
   "name": "python3"
  },
  "language_info": {
   "codemirror_mode": {
    "name": "ipython",
    "version": 3
   },
   "file_extension": ".py",
   "mimetype": "text/x-python",
   "name": "python",
   "nbconvert_exporter": "python",
   "pygments_lexer": "ipython3",
   "version": "3.12.6"
  }
 },
 "nbformat": 4,
 "nbformat_minor": 2
}
